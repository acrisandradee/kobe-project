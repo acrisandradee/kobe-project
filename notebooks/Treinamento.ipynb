{
 "cells": [
  {
   "cell_type": "code",
   "execution_count": 14,
   "metadata": {},
   "outputs": [
    {
     "name": "stdout",
     "output_type": "stream",
     "text": [
      "The kedro.ipython extension is already loaded. To reload it, use:\n",
      "  %reload_ext kedro.ipython\n",
      "Treino: <bound method DataFrame.info of            lat       lon  minutes_remaining  period  playoffs  shot_distance  \\\n",
      "7006   34.0343 -118.1288                  1       2         0             14   \n",
      "20760  33.9723 -118.0808                  0       3         0             20   \n",
      "15143  33.8713 -118.1728                 11       3         0             19   \n",
      "10506  34.0443 -118.2698                 11       2         0              0   \n",
      "21377  33.8543 -118.2698                 11       3         0             19   \n",
      "...        ...       ...                ...     ...       ...            ...   \n",
      "29740  34.0523 -118.0718                  9       3         1             19   \n",
      "23272  34.0443 -118.2698                  0       1         0              0   \n",
      "6023   34.0523 -118.0838                  2       3         0             18   \n",
      "1104   34.0403 -118.3618                  3       3         0              9   \n",
      "27185  33.8573 -118.3958                  6       1         1             22   \n",
      "\n",
      "       shot_made_flag  \n",
      "7006              0.0  \n",
      "20760             0.0  \n",
      "15143             0.0  \n",
      "10506             1.0  \n",
      "21377             0.0  \n",
      "...               ...  \n",
      "29740             0.0  \n",
      "23272             1.0  \n",
      "6023              1.0  \n",
      "1104              1.0  \n",
      "27185             1.0  \n",
      "\n",
      "[16228 rows x 7 columns]>\n",
      "Teste:  <bound method DataFrame.info of            lat       lon  minutes_remaining  period  playoffs  shot_distance  \\\n",
      "30558  33.8883 -118.3828                 11       3         1             19   \n",
      "520    34.0213 -118.1598                  2       3         0             11   \n",
      "25613  33.9833 -118.1208                 10       2         0             16   \n",
      "15368  34.0443 -118.2698                  0       4         0              0   \n",
      "9175   34.0443 -118.2698                  0       1         0              0   \n",
      "...        ...       ...                ...     ...       ...            ...   \n",
      "323    34.0313 -118.2988                 11       2         0              3   \n",
      "1043   34.0423 -118.1848                  6       1         0              8   \n",
      "23222  34.0443 -118.2698                  3       4         0              0   \n",
      "14718  33.9343 -118.3778                  5       1         0             15   \n",
      "24021  33.8503 -118.2818                  0       1         0             19   \n",
      "\n",
      "       shot_made_flag  \n",
      "30558             0.0  \n",
      "520               0.0  \n",
      "25613             0.0  \n",
      "15368             1.0  \n",
      "9175              0.0  \n",
      "...               ...  \n",
      "323               0.0  \n",
      "1043              0.0  \n",
      "23222             1.0  \n",
      "14718             1.0  \n",
      "24021             0.0  \n",
      "\n",
      "[4057 rows x 7 columns]>\n"
     ]
    }
   ],
   "source": [
    "%load_ext kedro.ipython\n",
    "import pandas as pd\n",
    "from pycaret.classification import *\n",
    "from sklearn.metrics import log_loss, f1_score\n",
    "\n",
    "df_train = pd.read_parquet(\"../data/processed/base_train.parquet\")\n",
    "df_test = pd.read_parquet(\"../data/processed/base_test.parquet\")\n",
    "\n",
    "print(\"Treino:\", df_train.info)\n",
    "print(\"Teste: \", df_test.info)\n"
   ]
  },
  {
   "cell_type": "code",
   "execution_count": 4,
   "metadata": {},
   "outputs": [
    {
     "name": "stdout",
     "output_type": "stream",
     "text": [
      "🔧 Treinando modelo: Regressão Logística\n"
     ]
    },
    {
     "name": "stderr",
     "output_type": "stream",
     "text": [
      "                                                         \r"
     ]
    },
    {
     "name": "stdout",
     "output_type": "stream",
     "text": [
      "      Accuracy     AUC  Recall   Prec.      F1   Kappa     MCC\n",
      "Fold                                                          \n",
      "0       0.0000  0.0000  0.0000  0.0000  0.0000  0.0000  0.0000\n",
      "1       0.5880  0.6124  0.5055  0.5781  0.5394  0.1698  0.1710\n",
      "2       0.0000  0.0000  0.0000  0.0000  0.0000  0.0000  0.0000\n",
      "3       0.5757  0.5889  0.4557  0.5691  0.5061  0.1421  0.1448\n",
      "4       0.0000  0.0000  0.0000  0.0000  0.0000  0.0000  0.0000\n",
      "5       0.5528  0.5640  0.4594  0.5366  0.4950  0.0981  0.0990\n",
      "6       0.5915  0.6151  0.5074  0.5826  0.5424  0.1767  0.1781\n",
      "7       0.5581  0.5939  0.4641  0.5443  0.5010  0.1089  0.1101\n",
      "8       0.5757  0.6012  0.4825  0.5659  0.5209  0.1444  0.1459\n",
      "9       0.0000  0.0000  0.0000  0.0000  0.0000  0.0000  0.0000\n",
      "Mean    0.3442  0.3575  0.2875  0.3377  0.3105  0.0840  0.0849\n",
      "Std     0.2812  0.2922  0.2353  0.2760  0.2539  0.0721  0.0729\n"
     ]
    },
    {
     "name": "stderr",
     "output_type": "stream",
     "text": [
      "Processing:   0%|          | 0/7 [00:00<?, ?it/s]"
     ]
    },
    {
     "name": "stdout",
     "output_type": "stream",
     "text": [
      "Fitting 10 folds for each of 10 candidates, totalling 100 fits\n"
     ]
    },
    {
     "name": "stderr",
     "output_type": "stream",
     "text": [
      "                                                         \r"
     ]
    },
    {
     "name": "stdout",
     "output_type": "stream",
     "text": [
      "      Accuracy     AUC  Recall   Prec.      F1   Kappa     MCC\n",
      "Fold                                                          \n",
      "0       0.0000  0.0000  0.0000  0.0000  0.0000  0.0000  0.0000\n",
      "1       0.5863  0.6124  0.5055  0.5756  0.5383  0.1664  0.1675\n",
      "2       0.0000  0.0000  0.0000  0.0000  0.0000  0.0000  0.0000\n",
      "3       0.5757  0.5887  0.4539  0.5694  0.5051  0.1420  0.1448\n",
      "4       0.0000  0.0000  0.0000  0.0000  0.0000  0.0000  0.0000\n",
      "5       0.5546  0.5644  0.4594  0.5390  0.4960  0.1015  0.1025\n",
      "6       0.5924  0.6170  0.5129  0.5828  0.5456  0.1788  0.1800\n",
      "7       0.5607  0.5943  0.4641  0.5478  0.5025  0.1141  0.1153\n",
      "8       0.5722  0.6015  0.4788  0.5616  0.5169  0.1373  0.1388\n",
      "9       0.0000  0.0000  0.0000  0.0000  0.0000  0.0000  0.0000\n",
      "Mean    0.3442  0.3578  0.2875  0.3376  0.3104  0.0840  0.0849\n",
      "Std     0.2812  0.2925  0.2354  0.2759  0.2539  0.0717  0.0724\n",
      "🔧 Treinando modelo: Árvore de Decisão\n"
     ]
    },
    {
     "name": "stderr",
     "output_type": "stream",
     "text": [
      "                                                         \r"
     ]
    },
    {
     "name": "stdout",
     "output_type": "stream",
     "text": [
      "      Accuracy     AUC  Recall   Prec.      F1   Kappa     MCC\n",
      "Fold                                                          \n",
      "0       0.5431  0.5203  0.6089  0.5181  0.5598  0.0913  0.0926\n",
      "1       0.5572  0.5426  0.5627  0.5342  0.5481  0.1147  0.1148\n",
      "2       0.0000  0.0000  0.0000  0.0000  0.0000  0.0000  0.0000\n",
      "3       0.5185  0.5019  0.5554  0.4959  0.5239  0.0400  0.0403\n",
      "4       0.0000  0.0000  0.0000  0.0000  0.0000  0.0000  0.0000\n",
      "5       0.5414  0.5287  0.5793  0.5173  0.5466  0.0856  0.0862\n",
      "6       0.5440  0.5177  0.6181  0.5186  0.5640  0.0937  0.0953\n",
      "7       0.5185  0.5081  0.5691  0.4968  0.5305  0.0410  0.0414\n",
      "8       0.5484  0.5255  0.6077  0.5238  0.5627  0.1011  0.1023\n",
      "9       0.0000  0.0000  0.0000  0.0000  0.0000  0.0000  0.0000\n",
      "Mean    0.3771  0.3645  0.4101  0.3605  0.3835  0.0567  0.0573\n",
      "Std     0.2471  0.2388  0.2692  0.2362  0.2514  0.0435  0.0439\n"
     ]
    },
    {
     "name": "stderr",
     "output_type": "stream",
     "text": [
      "Processing:   0%|          | 0/7 [00:00<?, ?it/s]"
     ]
    },
    {
     "name": "stdout",
     "output_type": "stream",
     "text": [
      "Fitting 10 folds for each of 10 candidates, totalling 100 fits\n"
     ]
    },
    {
     "name": "stderr",
     "output_type": "stream",
     "text": [
      "                                                         \r"
     ]
    },
    {
     "name": "stdout",
     "output_type": "stream",
     "text": [
      "Original model was better than the tuned model, hence it will be returned. NOTE: The display metrics are for the tuned model (not the original one).\n",
      "      Accuracy     AUC  Recall   Prec.      F1   Kappa     MCC\n",
      "Fold                                                          \n",
      "0       0.5282  0.5122  0.1624  0.5176  0.2472  0.0251  0.0340\n",
      "1       0.5158  0.5001  0.1568  0.4775  0.2361  0.0003  0.0004\n",
      "2       0.0000  0.0000  0.0000  0.0000  0.0000  0.0000  0.0000\n",
      "3       0.5185  0.5028  0.1605  0.4860  0.2413  0.0058  0.0077\n",
      "4       0.0000  0.0000  0.0000  0.0000  0.0000  0.0000  0.0000\n",
      "5       0.5018  0.4854  0.1273  0.4259  0.1960 -0.0302 -0.0418\n",
      "6       0.5167  0.5014  0.1661  0.4813  0.2469  0.0028  0.0037\n",
      "7       0.5088  0.4929  0.1326  0.4528  0.2051 -0.0145 -0.0203\n",
      "8       0.0000  0.0000  0.0000  0.0000  0.0000  0.0000  0.0000\n",
      "9       0.5093  0.4932  0.1365  0.4540  0.2099 -0.0140 -0.0193\n",
      "Mean    0.3599  0.3488  0.1042  0.3295  0.1583 -0.0025 -0.0036\n",
      "Std     0.2357  0.2284  0.0694  0.2169  0.1050  0.0139  0.0191\n",
      "📊 Logística - F1 Score: 0.5115 | Log Loss: 0.6765\n",
      "📊 Árvore    - F1 Score: 0.5441 | Log Loss: 14.0597\n"
     ]
    },
    {
     "name": "stderr",
     "output_type": "stream",
     "text": [
      "2025/04/02 21:45:17 WARNING mlflow.models.model: Model logged without a signature and input example. Please set `input_example` parameter when logging the model to auto infer the model signature.\n"
     ]
    },
    {
     "name": "stdout",
     "output_type": "stream",
     "text": [
      "✅ Modelo vencedor: Arvore\n",
      "🏁 Fim do processo. Você pode agora aplicar esse modelo na produção.\n"
     ]
    }
   ],
   "source": [
    "import pandas as pd\n",
    "import mlflow\n",
    "import mlflow.sklearn\n",
    "from pycaret.classification import setup, create_model, tune_model, predict_model, finalize_model, get_config\n",
    "from sklearn.metrics import log_loss, f1_score\n",
    "from imblearn.over_sampling import SMOTE\n",
    "\n",
    "# 1. Carregar os dados\n",
    "df_train = pd.read_parquet(\"../data/processed/base_train.parquet\")\n",
    "df_test  = pd.read_parquet(\"../data/processed/base_test.parquet\")\n",
    "\n",
    "X_test = df_test.drop(\"shot_made_flag\", axis=1)\n",
    "y_test = df_test[\"shot_made_flag\"]\n",
    "\n",
    "# 2. Iniciar run do MLflow\n",
    "with mlflow.start_run(run_name=\"MelhorModeloComPrints\"):\n",
    "\n",
    "    setup(\n",
    "    data=df_train,\n",
    "    target=\"shot_made_flag\",\n",
    "    session_id=42,\n",
    "    normalize=True,                     # Normaliza os dados\n",
    "    transformation=True,               # Aplica transformações (log, raiz etc)\n",
    "    fix_imbalance=True,                # Ativa o balanceamento\n",
    "    fix_imbalance_method=SMOTE(),      # SMOTE personalizado\n",
    "    remove_outliers=True,              # Remove outliers que atrapalham\n",
    "    remove_multicollinearity=True,     # Remove variáveis colineares\n",
    "    multicollinearity_threshold=0.95,  # Threshold de colinearidade\n",
    "    fold=10,                           # Cross-validation com 10 folds\n",
    "    fold_shuffle=True,                 # Shuffle nos folds\n",
    "    html=False,\n",
    "    verbose=False\n",
    ")\n",
    "\n",
    "    # 4. Treinar modelos\n",
    "    print(\"🔧 Treinando modelo: Regressão Logística\")\n",
    "    lr_model = tune_model(create_model(\"lr\"), optimize=\"F1\")\n",
    "\n",
    "    print(\"🔧 Treinando modelo: Árvore de Decisão\")\n",
    "    dt_model = tune_model(create_model(\"dt\"), optimize=\"F1\")\n",
    "\n",
    "    # 5. Transformar X_test\n",
    "    pipeline = get_config(\"pipeline\")\n",
    "    X_test_transformed = pipeline.transform(X_test)\n",
    "\n",
    "    # 6. Avaliação Logística\n",
    "    y_pred_lr = lr_model.predict(X_test_transformed)\n",
    "    y_proba_lr = lr_model.predict_proba(X_test_transformed)\n",
    "    f1_lr = f1_score(y_test, y_pred_lr)\n",
    "    loss_lr = log_loss(y_test, y_proba_lr)\n",
    "\n",
    "    # 7. Avaliação Árvore\n",
    "    y_pred_dt = dt_model.predict(X_test_transformed)\n",
    "    y_proba_dt = dt_model.predict_proba(X_test_transformed)\n",
    "    f1_dt = f1_score(y_test, y_pred_dt)\n",
    "    loss_dt = log_loss(y_test, y_proba_dt)\n",
    "\n",
    "    # 8. Prints e comparações\n",
    "    print(f\"📊 Logística - F1 Score: {f1_lr:.4f} | Log Loss: {loss_lr:.4f}\")\n",
    "    print(f\"📊 Árvore    - F1 Score: {f1_dt:.4f} | Log Loss: {loss_dt:.4f}\")\n",
    "\n",
    "    # 9. Log de métricas\n",
    "    mlflow.log_metrics({\n",
    "        \"f1_score_logistica\": f1_lr,\n",
    "        \"log_loss_logistica\": loss_lr,\n",
    "        \"f1_score_arvore\": f1_dt,\n",
    "        \"log_loss_arvore\": loss_dt\n",
    "    })\n",
    "\n",
    "    # 10. Escolher modelo vencedor\n",
    "    modelo_vencedor = \"Logistica\" if f1_lr > f1_dt else \"Arvore\"\n",
    "    modelo_final = lr_model if modelo_vencedor == \"Logistica\" else dt_model\n",
    "\n",
    "    mlflow.log_param(\"modelo_vencedor\", modelo_vencedor)\n",
    "    mlflow.sklearn.log_model(modelo_final, artifact_path=\"modelo_vencedor\")\n",
    "\n",
    "    print(f\"✅ Modelo vencedor: {modelo_vencedor}\")\n",
    "\n",
    "# 11. Pronto para uso\n",
    "print(\"🏁 Fim do processo. Você pode agora aplicar esse modelo na produção.\")\n"
   ]
  }
 ],
 "metadata": {
  "kernelspec": {
   "display_name": "venv",
   "language": "python",
   "name": "python3"
  },
  "language_info": {
   "codemirror_mode": {
    "name": "ipython",
    "version": 3
   },
   "file_extension": ".py",
   "mimetype": "text/x-python",
   "name": "python",
   "nbconvert_exporter": "python",
   "pygments_lexer": "ipython3",
   "version": "3.10.0"
  }
 },
 "nbformat": 4,
 "nbformat_minor": 2
}
