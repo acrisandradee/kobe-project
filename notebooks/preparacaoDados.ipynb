{
 "cells": [
  {
   "cell_type": "code",
   "execution_count": 15,
   "metadata": {},
   "outputs": [
    {
     "data": {
      "text/html": [
       "<pre style=\"white-space:pre;overflow-x:auto;line-height:normal;font-family:Menlo,'DejaVu Sans Mono',consolas,'Courier New',monospace\"><span style=\"color: #7fbfbf; text-decoration-color: #7fbfbf\">[04/02/25 13:55:45] </span><span style=\"color: #000080; text-decoration-color: #000080\">INFO    </span> Using                                                                  <a href=\"file://c:\\Users\\Cristina\\Desktop\\projetoEngML\\kobe-project\\venv\\lib\\site-packages\\kedro\\framework\\project\\__init__.py\" target=\"_blank\"><span style=\"color: #7f7f7f; text-decoration-color: #7f7f7f\">__init__.py</span></a><span style=\"color: #7f7f7f; text-decoration-color: #7f7f7f\">:</span><a href=\"file://c:\\Users\\Cristina\\Desktop\\projetoEngML\\kobe-project\\venv\\lib\\site-packages\\kedro\\framework\\project\\__init__.py#270\" target=\"_blank\"><span style=\"color: #7f7f7f; text-decoration-color: #7f7f7f\">270</span></a>\n",
       "<span style=\"color: #7fbfbf; text-decoration-color: #7fbfbf\">                    </span>         <span style=\"color: #008000; text-decoration-color: #008000\">'c:\\Users\\Cristina\\Desktop\\projetoEngML\\kobe-project\\venv\\lib\\site-pac</span> <span style=\"color: #7f7f7f; text-decoration-color: #7f7f7f\">               </span>\n",
       "<span style=\"color: #7fbfbf; text-decoration-color: #7fbfbf\">                    </span>         <span style=\"color: #008000; text-decoration-color: #008000\">kages\\kedro\\framework\\project\\rich_logging.yml'</span> as logging             <span style=\"color: #7f7f7f; text-decoration-color: #7f7f7f\">               </span>\n",
       "<span style=\"color: #7fbfbf; text-decoration-color: #7fbfbf\">                    </span>         configuration.                                                         <span style=\"color: #7f7f7f; text-decoration-color: #7f7f7f\">               </span>\n",
       "</pre>\n"
      ],
      "text/plain": [
       "\u001b[2;36m[04/02/25 13:55:45]\u001b[0m\u001b[2;36m \u001b[0m\u001b[34mINFO    \u001b[0m Using                                                                  \u001b]8;id=785375;file://c:\\Users\\Cristina\\Desktop\\projetoEngML\\kobe-project\\venv\\lib\\site-packages\\kedro\\framework\\project\\__init__.py\u001b\\\u001b[2m__init__.py\u001b[0m\u001b]8;;\u001b\\\u001b[2m:\u001b[0m\u001b]8;id=74431;file://c:\\Users\\Cristina\\Desktop\\projetoEngML\\kobe-project\\venv\\lib\\site-packages\\kedro\\framework\\project\\__init__.py#270\u001b\\\u001b[2m270\u001b[0m\u001b]8;;\u001b\\\n",
       "\u001b[2;36m                    \u001b[0m         \u001b[32m'c:\\Users\\Cristina\\Desktop\\projetoEngML\\kobe-project\\venv\\lib\\site-pac\u001b[0m \u001b[2m               \u001b[0m\n",
       "\u001b[2;36m                    \u001b[0m         \u001b[32mkages\\kedro\\framework\\project\\rich_logging.yml'\u001b[0m as logging             \u001b[2m               \u001b[0m\n",
       "\u001b[2;36m                    \u001b[0m         configuration.                                                         \u001b[2m               \u001b[0m\n"
      ]
     },
     "metadata": {},
     "output_type": "display_data"
    },
    {
     "data": {
      "text/html": [
       "<pre style=\"white-space:pre;overflow-x:auto;line-height:normal;font-family:Menlo,'DejaVu Sans Mono',consolas,'Courier New',monospace\"><span style=\"color: #7fbfbf; text-decoration-color: #7fbfbf\">                    </span><span style=\"color: #000080; text-decoration-color: #000080\">INFO    </span> Registered line magic <span style=\"color: #008000; text-decoration-color: #008000\">'%reload_kedro'</span>                                   <a href=\"file://c:\\Users\\Cristina\\Desktop\\projetoEngML\\kobe-project\\venv\\lib\\site-packages\\kedro\\ipython\\__init__.py\" target=\"_blank\"><span style=\"color: #7f7f7f; text-decoration-color: #7f7f7f\">__init__.py</span></a><span style=\"color: #7f7f7f; text-decoration-color: #7f7f7f\">:</span><a href=\"file://c:\\Users\\Cristina\\Desktop\\projetoEngML\\kobe-project\\venv\\lib\\site-packages\\kedro\\ipython\\__init__.py#63\" target=\"_blank\"><span style=\"color: #7f7f7f; text-decoration-color: #7f7f7f\">63</span></a>\n",
       "</pre>\n"
      ],
      "text/plain": [
       "\u001b[2;36m                   \u001b[0m\u001b[2;36m \u001b[0m\u001b[34mINFO    \u001b[0m Registered line magic \u001b[32m'%reload_kedro'\u001b[0m                                   \u001b]8;id=512279;file://c:\\Users\\Cristina\\Desktop\\projetoEngML\\kobe-project\\venv\\lib\\site-packages\\kedro\\ipython\\__init__.py\u001b\\\u001b[2m__init__.py\u001b[0m\u001b]8;;\u001b\\\u001b[2m:\u001b[0m\u001b]8;id=961937;file://c:\\Users\\Cristina\\Desktop\\projetoEngML\\kobe-project\\venv\\lib\\site-packages\\kedro\\ipython\\__init__.py#63\u001b\\\u001b[2m63\u001b[0m\u001b]8;;\u001b\\\n"
      ]
     },
     "metadata": {},
     "output_type": "display_data"
    },
    {
     "data": {
      "text/html": [
       "<pre style=\"white-space:pre;overflow-x:auto;line-height:normal;font-family:Menlo,'DejaVu Sans Mono',consolas,'Courier New',monospace\"><span style=\"color: #7fbfbf; text-decoration-color: #7fbfbf\">                    </span><span style=\"color: #000080; text-decoration-color: #000080\">INFO    </span> Registered line magic <span style=\"color: #008000; text-decoration-color: #008000\">'%load_node'</span>                                      <a href=\"file://c:\\Users\\Cristina\\Desktop\\projetoEngML\\kobe-project\\venv\\lib\\site-packages\\kedro\\ipython\\__init__.py\" target=\"_blank\"><span style=\"color: #7f7f7f; text-decoration-color: #7f7f7f\">__init__.py</span></a><span style=\"color: #7f7f7f; text-decoration-color: #7f7f7f\">:</span><a href=\"file://c:\\Users\\Cristina\\Desktop\\projetoEngML\\kobe-project\\venv\\lib\\site-packages\\kedro\\ipython\\__init__.py#65\" target=\"_blank\"><span style=\"color: #7f7f7f; text-decoration-color: #7f7f7f\">65</span></a>\n",
       "</pre>\n"
      ],
      "text/plain": [
       "\u001b[2;36m                   \u001b[0m\u001b[2;36m \u001b[0m\u001b[34mINFO    \u001b[0m Registered line magic \u001b[32m'%load_node'\u001b[0m                                      \u001b]8;id=620320;file://c:\\Users\\Cristina\\Desktop\\projetoEngML\\kobe-project\\venv\\lib\\site-packages\\kedro\\ipython\\__init__.py\u001b\\\u001b[2m__init__.py\u001b[0m\u001b]8;;\u001b\\\u001b[2m:\u001b[0m\u001b]8;id=133012;file://c:\\Users\\Cristina\\Desktop\\projetoEngML\\kobe-project\\venv\\lib\\site-packages\\kedro\\ipython\\__init__.py#65\u001b\\\u001b[2m65\u001b[0m\u001b]8;;\u001b\\\n"
      ]
     },
     "metadata": {},
     "output_type": "display_data"
    },
    {
     "data": {
      "text/html": [
       "<pre style=\"white-space:pre;overflow-x:auto;line-height:normal;font-family:Menlo,'DejaVu Sans Mono',consolas,'Courier New',monospace\"><span style=\"color: #7fbfbf; text-decoration-color: #7fbfbf\">                    </span><span style=\"color: #000080; text-decoration-color: #000080\">INFO    </span> Resolved project path as:                                              <a href=\"file://c:\\Users\\Cristina\\Desktop\\projetoEngML\\kobe-project\\venv\\lib\\site-packages\\kedro\\ipython\\__init__.py\" target=\"_blank\"><span style=\"color: #7f7f7f; text-decoration-color: #7f7f7f\">__init__.py</span></a><span style=\"color: #7f7f7f; text-decoration-color: #7f7f7f\">:</span><a href=\"file://c:\\Users\\Cristina\\Desktop\\projetoEngML\\kobe-project\\venv\\lib\\site-packages\\kedro\\ipython\\__init__.py#180\" target=\"_blank\"><span style=\"color: #7f7f7f; text-decoration-color: #7f7f7f\">180</span></a>\n",
       "<span style=\"color: #7fbfbf; text-decoration-color: #7fbfbf\">                    </span>         c:\\Users\\Cristina\\Desktop\\projetoEngML\\kobe-project.                   <span style=\"color: #7f7f7f; text-decoration-color: #7f7f7f\">               </span>\n",
       "<span style=\"color: #7fbfbf; text-decoration-color: #7fbfbf\">                    </span>         To set a different path, run <span style=\"color: #008000; text-decoration-color: #008000\">'%reload_kedro &lt;project_root&gt;'</span>            <span style=\"color: #7f7f7f; text-decoration-color: #7f7f7f\">               </span>\n",
       "</pre>\n"
      ],
      "text/plain": [
       "\u001b[2;36m                   \u001b[0m\u001b[2;36m \u001b[0m\u001b[34mINFO    \u001b[0m Resolved project path as:                                              \u001b]8;id=869623;file://c:\\Users\\Cristina\\Desktop\\projetoEngML\\kobe-project\\venv\\lib\\site-packages\\kedro\\ipython\\__init__.py\u001b\\\u001b[2m__init__.py\u001b[0m\u001b]8;;\u001b\\\u001b[2m:\u001b[0m\u001b]8;id=971122;file://c:\\Users\\Cristina\\Desktop\\projetoEngML\\kobe-project\\venv\\lib\\site-packages\\kedro\\ipython\\__init__.py#180\u001b\\\u001b[2m180\u001b[0m\u001b]8;;\u001b\\\n",
       "\u001b[2;36m                    \u001b[0m         c:\\Users\\Cristina\\Desktop\\projetoEngML\\kobe-project.                   \u001b[2m               \u001b[0m\n",
       "\u001b[2;36m                    \u001b[0m         To set a different path, run \u001b[32m'%reload_kedro \u001b[0m\u001b[32m<\u001b[0m\u001b[32mproject_root\u001b[0m\u001b[32m>\u001b[0m\u001b[32m'\u001b[0m            \u001b[2m               \u001b[0m\n"
      ]
     },
     "metadata": {},
     "output_type": "display_data"
    },
    {
     "data": {
      "text/html": [
       "<pre style=\"white-space:pre;overflow-x:auto;line-height:normal;font-family:Menlo,'DejaVu Sans Mono',consolas,'Courier New',monospace\"><span style=\"color: #7fbfbf; text-decoration-color: #7fbfbf\">[04/02/25 13:56:00] </span><span style=\"color: #000080; text-decoration-color: #000080\">INFO    </span> Kedro is sending anonymous usage data with the sole purpose of improving <a href=\"file://c:\\Users\\Cristina\\Desktop\\projetoEngML\\kobe-project\\venv\\lib\\site-packages\\kedro_telemetry\\plugin.py\" target=\"_blank\"><span style=\"color: #7f7f7f; text-decoration-color: #7f7f7f\">plugin.py</span></a><span style=\"color: #7f7f7f; text-decoration-color: #7f7f7f\">:</span><a href=\"file://c:\\Users\\Cristina\\Desktop\\projetoEngML\\kobe-project\\venv\\lib\\site-packages\\kedro_telemetry\\plugin.py#233\" target=\"_blank\"><span style=\"color: #7f7f7f; text-decoration-color: #7f7f7f\">233</span></a>\n",
       "<span style=\"color: #7fbfbf; text-decoration-color: #7fbfbf\">                    </span>         the product. No personal data or IP addresses are stored on our side. If <span style=\"color: #7f7f7f; text-decoration-color: #7f7f7f\">             </span>\n",
       "<span style=\"color: #7fbfbf; text-decoration-color: #7fbfbf\">                    </span>         you want to opt out, set the `KEDRO_DISABLE_TELEMETRY` or `DO_NOT_TRACK` <span style=\"color: #7f7f7f; text-decoration-color: #7f7f7f\">             </span>\n",
       "<span style=\"color: #7fbfbf; text-decoration-color: #7fbfbf\">                    </span>         environment variables, or create a `.telemetry` file in the current      <span style=\"color: #7f7f7f; text-decoration-color: #7f7f7f\">             </span>\n",
       "<span style=\"color: #7fbfbf; text-decoration-color: #7fbfbf\">                    </span>         working directory with the contents `consent: false`. Read more at       <span style=\"color: #7f7f7f; text-decoration-color: #7f7f7f\">             </span>\n",
       "<span style=\"color: #7fbfbf; text-decoration-color: #7fbfbf\">                    </span>         <span style=\"color: #0000ff; text-decoration-color: #0000ff; text-decoration: underline\">https://docs.kedro.org/en/stable/configuration/telemetry.html</span>            <span style=\"color: #7f7f7f; text-decoration-color: #7f7f7f\">             </span>\n",
       "</pre>\n"
      ],
      "text/plain": [
       "\u001b[2;36m[04/02/25 13:56:00]\u001b[0m\u001b[2;36m \u001b[0m\u001b[34mINFO    \u001b[0m Kedro is sending anonymous usage data with the sole purpose of improving \u001b]8;id=591;file://c:\\Users\\Cristina\\Desktop\\projetoEngML\\kobe-project\\venv\\lib\\site-packages\\kedro_telemetry\\plugin.py\u001b\\\u001b[2mplugin.py\u001b[0m\u001b]8;;\u001b\\\u001b[2m:\u001b[0m\u001b]8;id=890808;file://c:\\Users\\Cristina\\Desktop\\projetoEngML\\kobe-project\\venv\\lib\\site-packages\\kedro_telemetry\\plugin.py#233\u001b\\\u001b[2m233\u001b[0m\u001b]8;;\u001b\\\n",
       "\u001b[2;36m                    \u001b[0m         the product. No personal data or IP addresses are stored on our side. If \u001b[2m             \u001b[0m\n",
       "\u001b[2;36m                    \u001b[0m         you want to opt out, set the `KEDRO_DISABLE_TELEMETRY` or `DO_NOT_TRACK` \u001b[2m             \u001b[0m\n",
       "\u001b[2;36m                    \u001b[0m         environment variables, or create a `.telemetry` file in the current      \u001b[2m             \u001b[0m\n",
       "\u001b[2;36m                    \u001b[0m         working directory with the contents `consent: false`. Read more at       \u001b[2m             \u001b[0m\n",
       "\u001b[2;36m                    \u001b[0m         \u001b[4;94mhttps://docs.kedro.org/en/stable/configuration/telemetry.html\u001b[0m            \u001b[2m             \u001b[0m\n"
      ]
     },
     "metadata": {},
     "output_type": "display_data"
    },
    {
     "data": {
      "text/html": [
       "<pre style=\"white-space:pre;overflow-x:auto;line-height:normal;font-family:Menlo,'DejaVu Sans Mono',consolas,'Courier New',monospace\"><span style=\"color: #7fbfbf; text-decoration-color: #7fbfbf\">                    </span><span style=\"color: #000080; text-decoration-color: #000080\">INFO    </span> Kedro project kobe_project                                             <a href=\"file://c:\\Users\\Cristina\\Desktop\\projetoEngML\\kobe-project\\venv\\lib\\site-packages\\kedro\\ipython\\__init__.py\" target=\"_blank\"><span style=\"color: #7f7f7f; text-decoration-color: #7f7f7f\">__init__.py</span></a><span style=\"color: #7f7f7f; text-decoration-color: #7f7f7f\">:</span><a href=\"file://c:\\Users\\Cristina\\Desktop\\projetoEngML\\kobe-project\\venv\\lib\\site-packages\\kedro\\ipython\\__init__.py#146\" target=\"_blank\"><span style=\"color: #7f7f7f; text-decoration-color: #7f7f7f\">146</span></a>\n",
       "</pre>\n"
      ],
      "text/plain": [
       "\u001b[2;36m                   \u001b[0m\u001b[2;36m \u001b[0m\u001b[34mINFO    \u001b[0m Kedro project kobe_project                                             \u001b]8;id=250272;file://c:\\Users\\Cristina\\Desktop\\projetoEngML\\kobe-project\\venv\\lib\\site-packages\\kedro\\ipython\\__init__.py\u001b\\\u001b[2m__init__.py\u001b[0m\u001b]8;;\u001b\\\u001b[2m:\u001b[0m\u001b]8;id=57375;file://c:\\Users\\Cristina\\Desktop\\projetoEngML\\kobe-project\\venv\\lib\\site-packages\\kedro\\ipython\\__init__.py#146\u001b\\\u001b[2m146\u001b[0m\u001b]8;;\u001b\\\n"
      ]
     },
     "metadata": {},
     "output_type": "display_data"
    },
    {
     "data": {
      "text/html": [
       "<pre style=\"white-space:pre;overflow-x:auto;line-height:normal;font-family:Menlo,'DejaVu Sans Mono',consolas,'Courier New',monospace\"><span style=\"color: #7fbfbf; text-decoration-color: #7fbfbf\">                    </span><span style=\"color: #000080; text-decoration-color: #000080\">INFO    </span> Defined global variable <span style=\"color: #008000; text-decoration-color: #008000\">'context'</span>, <span style=\"color: #008000; text-decoration-color: #008000\">'session'</span>, <span style=\"color: #008000; text-decoration-color: #008000\">'catalog'</span> and            <a href=\"file://c:\\Users\\Cristina\\Desktop\\projetoEngML\\kobe-project\\venv\\lib\\site-packages\\kedro\\ipython\\__init__.py\" target=\"_blank\"><span style=\"color: #7f7f7f; text-decoration-color: #7f7f7f\">__init__.py</span></a><span style=\"color: #7f7f7f; text-decoration-color: #7f7f7f\">:</span><a href=\"file://c:\\Users\\Cristina\\Desktop\\projetoEngML\\kobe-project\\venv\\lib\\site-packages\\kedro\\ipython\\__init__.py#147\" target=\"_blank\"><span style=\"color: #7f7f7f; text-decoration-color: #7f7f7f\">147</span></a>\n",
       "<span style=\"color: #7fbfbf; text-decoration-color: #7fbfbf\">                    </span>         <span style=\"color: #008000; text-decoration-color: #008000\">'pipelines'</span>                                                            <span style=\"color: #7f7f7f; text-decoration-color: #7f7f7f\">               </span>\n",
       "</pre>\n"
      ],
      "text/plain": [
       "\u001b[2;36m                   \u001b[0m\u001b[2;36m \u001b[0m\u001b[34mINFO    \u001b[0m Defined global variable \u001b[32m'context'\u001b[0m, \u001b[32m'session'\u001b[0m, \u001b[32m'catalog'\u001b[0m and            \u001b]8;id=691977;file://c:\\Users\\Cristina\\Desktop\\projetoEngML\\kobe-project\\venv\\lib\\site-packages\\kedro\\ipython\\__init__.py\u001b\\\u001b[2m__init__.py\u001b[0m\u001b]8;;\u001b\\\u001b[2m:\u001b[0m\u001b]8;id=77414;file://c:\\Users\\Cristina\\Desktop\\projetoEngML\\kobe-project\\venv\\lib\\site-packages\\kedro\\ipython\\__init__.py#147\u001b\\\u001b[2m147\u001b[0m\u001b]8;;\u001b\\\n",
       "\u001b[2;36m                    \u001b[0m         \u001b[32m'pipelines'\u001b[0m                                                            \u001b[2m               \u001b[0m\n"
      ]
     },
     "metadata": {},
     "output_type": "display_data"
    },
    {
     "data": {
      "text/html": [
       "<pre style=\"white-space:pre;overflow-x:auto;line-height:normal;font-family:Menlo,'DejaVu Sans Mono',consolas,'Courier New',monospace\"><span style=\"color: #7fbfbf; text-decoration-color: #7fbfbf\">                    </span><span style=\"color: #000080; text-decoration-color: #000080\">INFO    </span> Loading data from <span style=\"color: #ff8700; text-decoration-color: #ff8700\">dataset_kobe_dev</span> <span style=\"font-weight: bold\">(</span>ParquetDataset<span style=\"font-weight: bold\">)</span><span style=\"color: #808000; text-decoration-color: #808000\">...</span>             <a href=\"file://c:\\Users\\Cristina\\Desktop\\projetoEngML\\kobe-project\\venv\\lib\\site-packages\\kedro\\io\\data_catalog.py\" target=\"_blank\"><span style=\"color: #7f7f7f; text-decoration-color: #7f7f7f\">data_catalog.py</span></a><span style=\"color: #7f7f7f; text-decoration-color: #7f7f7f\">:</span><a href=\"file://c:\\Users\\Cristina\\Desktop\\projetoEngML\\kobe-project\\venv\\lib\\site-packages\\kedro\\io\\data_catalog.py#390\" target=\"_blank\"><span style=\"color: #7f7f7f; text-decoration-color: #7f7f7f\">390</span></a>\n",
       "</pre>\n"
      ],
      "text/plain": [
       "\u001b[2;36m                   \u001b[0m\u001b[2;36m \u001b[0m\u001b[34mINFO    \u001b[0m Loading data from \u001b[38;5;208mdataset_kobe_dev\u001b[0m \u001b[1m(\u001b[0mParquetDataset\u001b[1m)\u001b[0m\u001b[33m...\u001b[0m             \u001b]8;id=372201;file://c:\\Users\\Cristina\\Desktop\\projetoEngML\\kobe-project\\venv\\lib\\site-packages\\kedro\\io\\data_catalog.py\u001b\\\u001b[2mdata_catalog.py\u001b[0m\u001b]8;;\u001b\\\u001b[2m:\u001b[0m\u001b]8;id=227264;file://c:\\Users\\Cristina\\Desktop\\projetoEngML\\kobe-project\\venv\\lib\\site-packages\\kedro\\io\\data_catalog.py#390\u001b\\\u001b[2m390\u001b[0m\u001b]8;;\u001b\\\n"
      ]
     },
     "metadata": {},
     "output_type": "display_data"
    },
    {
     "data": {
      "text/html": [
       "<pre style=\"white-space:pre;overflow-x:auto;line-height:normal;font-family:Menlo,'DejaVu Sans Mono',consolas,'Courier New',monospace\"></pre>\n"
      ],
      "text/plain": []
     },
     "metadata": {},
     "output_type": "display_data"
    },
    {
     "data": {
      "text/html": [
       "<div>\n",
       "<style scoped>\n",
       "    .dataframe tbody tr th:only-of-type {\n",
       "        vertical-align: middle;\n",
       "    }\n",
       "\n",
       "    .dataframe tbody tr th {\n",
       "        vertical-align: top;\n",
       "    }\n",
       "\n",
       "    .dataframe thead th {\n",
       "        text-align: right;\n",
       "    }\n",
       "</style>\n",
       "<table border=\"1\" class=\"dataframe\">\n",
       "  <thead>\n",
       "    <tr style=\"text-align: right;\">\n",
       "      <th></th>\n",
       "      <th>action_type</th>\n",
       "      <th>combined_shot_type</th>\n",
       "      <th>game_event_id</th>\n",
       "      <th>game_id</th>\n",
       "      <th>lat</th>\n",
       "      <th>loc_x</th>\n",
       "      <th>loc_y</th>\n",
       "      <th>lon</th>\n",
       "      <th>minutes_remaining</th>\n",
       "      <th>period</th>\n",
       "      <th>...</th>\n",
       "      <th>shot_type</th>\n",
       "      <th>shot_zone_area</th>\n",
       "      <th>shot_zone_basic</th>\n",
       "      <th>shot_zone_range</th>\n",
       "      <th>team_id</th>\n",
       "      <th>team_name</th>\n",
       "      <th>game_date</th>\n",
       "      <th>matchup</th>\n",
       "      <th>opponent</th>\n",
       "      <th>shot_id</th>\n",
       "    </tr>\n",
       "  </thead>\n",
       "  <tbody>\n",
       "    <tr>\n",
       "      <th>0</th>\n",
       "      <td>Jump Shot</td>\n",
       "      <td>Jump Shot</td>\n",
       "      <td>10</td>\n",
       "      <td>20000012</td>\n",
       "      <td>33.9723</td>\n",
       "      <td>167</td>\n",
       "      <td>72</td>\n",
       "      <td>-118.1028</td>\n",
       "      <td>10</td>\n",
       "      <td>1</td>\n",
       "      <td>...</td>\n",
       "      <td>2PT Field Goal</td>\n",
       "      <td>Right Side(R)</td>\n",
       "      <td>Mid-Range</td>\n",
       "      <td>16-24 ft.</td>\n",
       "      <td>1610612747</td>\n",
       "      <td>Los Angeles Lakers</td>\n",
       "      <td>2000-10-31</td>\n",
       "      <td>LAL @ POR</td>\n",
       "      <td>POR</td>\n",
       "      <td>1</td>\n",
       "    </tr>\n",
       "    <tr>\n",
       "      <th>1</th>\n",
       "      <td>Jump Shot</td>\n",
       "      <td>Jump Shot</td>\n",
       "      <td>12</td>\n",
       "      <td>20000012</td>\n",
       "      <td>34.0443</td>\n",
       "      <td>-157</td>\n",
       "      <td>0</td>\n",
       "      <td>-118.4268</td>\n",
       "      <td>10</td>\n",
       "      <td>1</td>\n",
       "      <td>...</td>\n",
       "      <td>2PT Field Goal</td>\n",
       "      <td>Left Side(L)</td>\n",
       "      <td>Mid-Range</td>\n",
       "      <td>8-16 ft.</td>\n",
       "      <td>1610612747</td>\n",
       "      <td>Los Angeles Lakers</td>\n",
       "      <td>2000-10-31</td>\n",
       "      <td>LAL @ POR</td>\n",
       "      <td>POR</td>\n",
       "      <td>2</td>\n",
       "    </tr>\n",
       "    <tr>\n",
       "      <th>2</th>\n",
       "      <td>Jump Shot</td>\n",
       "      <td>Jump Shot</td>\n",
       "      <td>35</td>\n",
       "      <td>20000012</td>\n",
       "      <td>33.9093</td>\n",
       "      <td>-101</td>\n",
       "      <td>135</td>\n",
       "      <td>-118.3708</td>\n",
       "      <td>7</td>\n",
       "      <td>1</td>\n",
       "      <td>...</td>\n",
       "      <td>2PT Field Goal</td>\n",
       "      <td>Left Side Center(LC)</td>\n",
       "      <td>Mid-Range</td>\n",
       "      <td>16-24 ft.</td>\n",
       "      <td>1610612747</td>\n",
       "      <td>Los Angeles Lakers</td>\n",
       "      <td>2000-10-31</td>\n",
       "      <td>LAL @ POR</td>\n",
       "      <td>POR</td>\n",
       "      <td>3</td>\n",
       "    </tr>\n",
       "    <tr>\n",
       "      <th>3</th>\n",
       "      <td>Jump Shot</td>\n",
       "      <td>Jump Shot</td>\n",
       "      <td>43</td>\n",
       "      <td>20000012</td>\n",
       "      <td>33.8693</td>\n",
       "      <td>138</td>\n",
       "      <td>175</td>\n",
       "      <td>-118.1318</td>\n",
       "      <td>6</td>\n",
       "      <td>1</td>\n",
       "      <td>...</td>\n",
       "      <td>2PT Field Goal</td>\n",
       "      <td>Right Side Center(RC)</td>\n",
       "      <td>Mid-Range</td>\n",
       "      <td>16-24 ft.</td>\n",
       "      <td>1610612747</td>\n",
       "      <td>Los Angeles Lakers</td>\n",
       "      <td>2000-10-31</td>\n",
       "      <td>LAL @ POR</td>\n",
       "      <td>POR</td>\n",
       "      <td>4</td>\n",
       "    </tr>\n",
       "    <tr>\n",
       "      <th>4</th>\n",
       "      <td>Driving Dunk Shot</td>\n",
       "      <td>Dunk</td>\n",
       "      <td>155</td>\n",
       "      <td>20000012</td>\n",
       "      <td>34.0443</td>\n",
       "      <td>0</td>\n",
       "      <td>0</td>\n",
       "      <td>-118.2698</td>\n",
       "      <td>6</td>\n",
       "      <td>2</td>\n",
       "      <td>...</td>\n",
       "      <td>2PT Field Goal</td>\n",
       "      <td>Center(C)</td>\n",
       "      <td>Restricted Area</td>\n",
       "      <td>Less Than 8 ft.</td>\n",
       "      <td>1610612747</td>\n",
       "      <td>Los Angeles Lakers</td>\n",
       "      <td>2000-10-31</td>\n",
       "      <td>LAL @ POR</td>\n",
       "      <td>POR</td>\n",
       "      <td>5</td>\n",
       "    </tr>\n",
       "  </tbody>\n",
       "</table>\n",
       "<p>5 rows × 25 columns</p>\n",
       "</div>"
      ],
      "text/plain": [
       "\n",
       "         action_type combined_shot_type  game_event_id   game_id      lat  \\\n",
       "\u001b[1;36m0\u001b[0m          Jump Shot          Jump Shot             \u001b[1;36m10\u001b[0m  \u001b[1;36m20000012\u001b[0m  \u001b[1;36m33.9723\u001b[0m   \n",
       "\u001b[1;36m1\u001b[0m          Jump Shot          Jump Shot             \u001b[1;36m12\u001b[0m  \u001b[1;36m20000012\u001b[0m  \u001b[1;36m34.0443\u001b[0m   \n",
       "\u001b[1;36m2\u001b[0m          Jump Shot          Jump Shot             \u001b[1;36m35\u001b[0m  \u001b[1;36m20000012\u001b[0m  \u001b[1;36m33.9093\u001b[0m   \n",
       "\u001b[1;36m3\u001b[0m          Jump Shot          Jump Shot             \u001b[1;36m43\u001b[0m  \u001b[1;36m20000012\u001b[0m  \u001b[1;36m33.8693\u001b[0m   \n",
       "\u001b[1;36m4\u001b[0m  Driving Dunk Shot               Dunk            \u001b[1;36m155\u001b[0m  \u001b[1;36m20000012\u001b[0m  \u001b[1;36m34.0443\u001b[0m   \n",
       "\n",
       "   loc_x  loc_y       lon  minutes_remaining  period  \u001b[33m...\u001b[0m       shot_type  \\\n",
       "\u001b[1;36m0\u001b[0m    \u001b[1;36m167\u001b[0m     \u001b[1;36m72\u001b[0m \u001b[1;36m-118.1028\u001b[0m                 \u001b[1;36m10\u001b[0m       \u001b[1;36m1\u001b[0m  \u001b[33m...\u001b[0m  2PT Field Goal   \n",
       "\u001b[1;36m1\u001b[0m   \u001b[1;36m-157\u001b[0m      \u001b[1;36m0\u001b[0m \u001b[1;36m-118.4268\u001b[0m                 \u001b[1;36m10\u001b[0m       \u001b[1;36m1\u001b[0m  \u001b[33m...\u001b[0m  2PT Field Goal   \n",
       "\u001b[1;36m2\u001b[0m   \u001b[1;36m-101\u001b[0m    \u001b[1;36m135\u001b[0m \u001b[1;36m-118.3708\u001b[0m                  \u001b[1;36m7\u001b[0m       \u001b[1;36m1\u001b[0m  \u001b[33m...\u001b[0m  2PT Field Goal   \n",
       "\u001b[1;36m3\u001b[0m    \u001b[1;36m138\u001b[0m    \u001b[1;36m175\u001b[0m \u001b[1;36m-118.1318\u001b[0m                  \u001b[1;36m6\u001b[0m       \u001b[1;36m1\u001b[0m  \u001b[33m...\u001b[0m  2PT Field Goal   \n",
       "\u001b[1;36m4\u001b[0m      \u001b[1;36m0\u001b[0m      \u001b[1;36m0\u001b[0m \u001b[1;36m-118.2698\u001b[0m                  \u001b[1;36m6\u001b[0m       \u001b[1;36m2\u001b[0m  \u001b[33m...\u001b[0m  2PT Field Goal   \n",
       "\n",
       "          shot_zone_area  shot_zone_basic  shot_zone_range     team_id  \\\n",
       "\u001b[1;36m0\u001b[0m          Right \u001b[1;35mSide\u001b[0m\u001b[1m(\u001b[0mR\u001b[1m)\u001b[0m        Mid-Range        \u001b[1;36m16\u001b[0m-\u001b[1;36m24\u001b[0m ft.  \u001b[1;36m1610612747\u001b[0m   \n",
       "\u001b[1;36m1\u001b[0m           Left \u001b[1;35mSide\u001b[0m\u001b[1m(\u001b[0mL\u001b[1m)\u001b[0m        Mid-Range         \u001b[1;36m8\u001b[0m-\u001b[1;36m16\u001b[0m ft.  \u001b[1;36m1610612747\u001b[0m   \n",
       "\u001b[1;36m2\u001b[0m   Left Side \u001b[1;35mCenter\u001b[0m\u001b[1m(\u001b[0mLC\u001b[1m)\u001b[0m        Mid-Range        \u001b[1;36m16\u001b[0m-\u001b[1;36m24\u001b[0m ft.  \u001b[1;36m1610612747\u001b[0m   \n",
       "\u001b[1;36m3\u001b[0m  Right Side \u001b[1;35mCenter\u001b[0m\u001b[1m(\u001b[0mRC\u001b[1m)\u001b[0m        Mid-Range        \u001b[1;36m16\u001b[0m-\u001b[1;36m24\u001b[0m ft.  \u001b[1;36m1610612747\u001b[0m   \n",
       "\u001b[1;36m4\u001b[0m              \u001b[1;35mCenter\u001b[0m\u001b[1m(\u001b[0mC\u001b[1m)\u001b[0m  Restricted Area  Less Than \u001b[1;36m8\u001b[0m ft.  \u001b[1;36m1610612747\u001b[0m   \n",
       "\n",
       "            team_name   game_date    matchup opponent  shot_id  \n",
       "\u001b[1;36m0\u001b[0m  Los Angeles Lakers  \u001b[1;36m2000\u001b[0m-\u001b[1;36m10\u001b[0m-\u001b[1;36m31\u001b[0m  LAL @ POR      POR        \u001b[1;36m1\u001b[0m  \n",
       "\u001b[1;36m1\u001b[0m  Los Angeles Lakers  \u001b[1;36m2000\u001b[0m-\u001b[1;36m10\u001b[0m-\u001b[1;36m31\u001b[0m  LAL @ POR      POR        \u001b[1;36m2\u001b[0m  \n",
       "\u001b[1;36m2\u001b[0m  Los Angeles Lakers  \u001b[1;36m2000\u001b[0m-\u001b[1;36m10\u001b[0m-\u001b[1;36m31\u001b[0m  LAL @ POR      POR        \u001b[1;36m3\u001b[0m  \n",
       "\u001b[1;36m3\u001b[0m  Los Angeles Lakers  \u001b[1;36m2000\u001b[0m-\u001b[1;36m10\u001b[0m-\u001b[1;36m31\u001b[0m  LAL @ POR      POR        \u001b[1;36m4\u001b[0m  \n",
       "\u001b[1;36m4\u001b[0m  Los Angeles Lakers  \u001b[1;36m2000\u001b[0m-\u001b[1;36m10\u001b[0m-\u001b[1;36m31\u001b[0m  LAL @ POR      POR        \u001b[1;36m5\u001b[0m  \n",
       "\n",
       "\u001b[1m[\u001b[0m\u001b[1;36m5\u001b[0m rows x \u001b[1;36m25\u001b[0m columns\u001b[1m]\u001b[0m"
      ]
     },
     "execution_count": 15,
     "metadata": {},
     "output_type": "execute_result"
    }
   ],
   "source": [
    "%load_ext kedro.ipython\n",
    "import pandas as pd\n",
    "raw_data = catalog.load(\"dataset_kobe_dev\")\n",
    "raw_data.head()\n"
   ]
  },
  {
   "cell_type": "code",
   "execution_count": 16,
   "metadata": {},
   "outputs": [
    {
     "data": {
      "text/html": [
       "<pre style=\"white-space:pre;overflow-x:auto;line-height:normal;font-family:Menlo,'DejaVu Sans Mono',consolas,'Courier New',monospace\"></pre>\n"
      ],
      "text/plain": []
     },
     "metadata": {},
     "output_type": "display_data"
    },
    {
     "data": {
      "text/plain": [
       "\n",
       "action_type              \u001b[1;36m0\u001b[0m\n",
       "combined_shot_type       \u001b[1;36m0\u001b[0m\n",
       "game_event_id            \u001b[1;36m0\u001b[0m\n",
       "game_id                  \u001b[1;36m0\u001b[0m\n",
       "lat                      \u001b[1;36m0\u001b[0m\n",
       "loc_x                    \u001b[1;36m0\u001b[0m\n",
       "loc_y                    \u001b[1;36m0\u001b[0m\n",
       "lon                      \u001b[1;36m0\u001b[0m\n",
       "minutes_remaining        \u001b[1;36m0\u001b[0m\n",
       "period                   \u001b[1;36m0\u001b[0m\n",
       "playoffs                 \u001b[1;36m0\u001b[0m\n",
       "season                   \u001b[1;36m0\u001b[0m\n",
       "seconds_remaining        \u001b[1;36m0\u001b[0m\n",
       "shot_distance            \u001b[1;36m0\u001b[0m\n",
       "shot_made_flag        \u001b[1;36m3986\u001b[0m\n",
       "shot_type                \u001b[1;36m0\u001b[0m\n",
       "shot_zone_area           \u001b[1;36m0\u001b[0m\n",
       "shot_zone_basic          \u001b[1;36m0\u001b[0m\n",
       "shot_zone_range          \u001b[1;36m0\u001b[0m\n",
       "team_id                  \u001b[1;36m0\u001b[0m\n",
       "team_name                \u001b[1;36m0\u001b[0m\n",
       "game_date                \u001b[1;36m0\u001b[0m\n",
       "matchup                  \u001b[1;36m0\u001b[0m\n",
       "opponent                 \u001b[1;36m0\u001b[0m\n",
       "shot_id                  \u001b[1;36m0\u001b[0m\n",
       "dtype: int64"
      ]
     },
     "execution_count": 16,
     "metadata": {},
     "output_type": "execute_result"
    }
   ],
   "source": [
    "raw_data.isnull().sum()\n"
   ]
  },
  {
   "cell_type": "code",
   "execution_count": 17,
   "metadata": {},
   "outputs": [],
   "source": [
    "df =raw_data.dropna(subset=[\"shot_made_flag\"])"
   ]
  },
  {
   "cell_type": "code",
   "execution_count": 18,
   "metadata": {},
   "outputs": [
    {
     "name": "stdout",
     "output_type": "stream",
     "text": [
      "Dimensão final (linhas, colunas): (20285, 7)\n",
      "lat                  0\n",
      "lon                  0\n",
      "minutes_remaining    0\n",
      "period               0\n",
      "playoffs             0\n",
      "shot_distance        0\n",
      "shot_made_flag       0\n",
      "dtype: int64\n"
     ]
    }
   ],
   "source": [
    "colunas = [\n",
    "    \"lat\",\n",
    "    \"lon\",  \n",
    "    \"minutes_remaining\",\n",
    "    \"period\",\n",
    "    \"playoffs\",\n",
    "    \"shot_distance\",\n",
    "    \"shot_made_flag\"\n",
    "]\n",
    "\n",
    "df = raw_data[colunas]\n",
    "df = df.dropna(subset=colunas)\n",
    "\n",
    "df.head()\n",
    "print(\"Dimensão final (linhas, colunas):\", df.shape)\n",
    "print(df.isnull().sum())\n"
   ]
  },
  {
   "cell_type": "code",
   "execution_count": 19,
   "metadata": {},
   "outputs": [
    {
     "name": "stdout",
     "output_type": "stream",
     "text": [
      "Dimensão final: (20285, 7)\n"
     ]
    }
   ],
   "source": [
    "print(\"Dimensão final:\", df.shape)"
   ]
  },
  {
   "cell_type": "code",
   "execution_count": null,
   "metadata": {},
   "outputs": [
    {
     "name": "stdout",
     "output_type": "stream",
     "text": [
      "[INFO] Pipeline PreparacaoDados finalizado.\n",
      " - data_filtered: (20285, 7)\n",
      " - base_train: (16228, 7) -> ../data/processed/base_train.parquet\n",
      " - base_test : (4057, 7) -> ../data/processed/base_test.parquet\n",
      "✔️  Dados preparados com sucesso e registrados no MLflow.\n"
     ]
    }
   ],
   "source": [
    "import mlflow\n",
    "import pandas as pd\n",
    "from pathlib import Path\n",
    "from sklearn.model_selection import train_test_split\n",
    "\n",
    "def pipeline_preparacao_dados(\n",
    "    input_path_dev: str = \"../data/01_raw/dataset_kobe_dev.parquet\",\n",
    "    input_path_prod: str = \"../data/01_raw/dataset_kobe_prod.parquet\",\n",
    "    data_filtered_path: str = \"../data/02_intermediate/data_filtered.parquet\",\n",
    "    train_path: str = \"../data/processed/base_train.parquet\",\n",
    "    test_path: str = \"../data/processed/base_test.parquet\",\n",
    "    test_size: float = 0.2,\n",
    "    random_state: int = 42\n",
    "):\n",
    "    with mlflow.start_run(run_name=\"PreparacaoDados\"):\n",
    "        mlflow.set_tag(\"pipeline\", \"preparacaodados\")\n",
    "\n",
    "\n",
    "        # 1) Carregar dataset (dev)\n",
    "        df_raw_dev = pd.read_parquet(input_path_dev)\n",
    "\n",
    "        # 2) Selecionar colunas\n",
    "        colunas = [\n",
    "            \"lat\",\n",
    "            \"lon\",  \n",
    "            \"minutes_remaining\",\n",
    "            \"period\",\n",
    "            \"playoffs\",\n",
    "            \"shot_distance\",\n",
    "            \"shot_made_flag\"\n",
    "        ]\n",
    "\n",
    "        # 3) Filtrar colunas e remover nulos\n",
    "        df_filtered = df_raw_dev[colunas].dropna(subset=colunas)\n",
    "\n",
    "        # 4) Salvar dataset filtrado\n",
    "        Path(data_filtered_path).parent.mkdir(parents=True, exist_ok=True)\n",
    "        df_filtered.to_parquet(data_filtered_path, index=False)\n",
    "\n",
    "        # 5) Logar métricas no MLflow\n",
    "        mlflow.log_metric(\"linhas_filtradas\", df_filtered.shape[0])\n",
    "        mlflow.log_metric(\"colunas_filtradas\", df_filtered.shape[1])\n",
    "\n",
    "        # 6) Separar dados\n",
    "        X = df_filtered.drop(\"shot_made_flag\", axis=1)\n",
    "        y = df_filtered[\"shot_made_flag\"]\n",
    "\n",
    "        X_train, X_test, y_train, y_test = train_test_split(\n",
    "            X, y,\n",
    "            test_size=test_size,\n",
    "            random_state=random_state,\n",
    "            stratify=y\n",
    "        )\n",
    "\n",
    "        df_train = X_train.copy()\n",
    "        df_train[\"shot_made_flag\"] = y_train\n",
    "\n",
    "        df_test = X_test.copy()\n",
    "        df_test[\"shot_made_flag\"] = y_test\n",
    "\n",
    "        # 7) Salvar arquivos\n",
    "        Path(train_path).parent.mkdir(parents=True, exist_ok=True)\n",
    "        Path(test_path).parent.mkdir(parents=True, exist_ok=True)\n",
    "\n",
    "        df_train.to_parquet(train_path, index=False)\n",
    "        df_test.to_parquet(test_path, index=False)\n",
    "\n",
    "        # 8) Logar parâmetros e métricas\n",
    "        mlflow.log_param(\"test_size\", test_size)\n",
    "        mlflow.log_metric(\"train_rows\", df_train.shape[0])\n",
    "        mlflow.log_metric(\"test_rows\", df_test.shape[0])\n",
    "\n",
    "        proporcao = df_train[\"shot_made_flag\"].value_counts(normalize=True).to_dict()\n",
    "        mlflow.log_metric(\"prop_0_train\", proporcao.get(0.0, 0))\n",
    "        mlflow.log_metric(\"prop_1_train\", proporcao.get(1.0, 0))\n",
    "\n",
    "        # 9) Print informativo\n",
    "        print(\"[INFO] Pipeline PreparacaoDados finalizado.\")\n",
    "        print(\" - data_filtered:\", df_filtered.shape)\n",
    "        print(\" - base_train:\", df_train.shape, \"->\", train_path)\n",
    "        print(\" - base_test :\", df_test.shape,  \"->\", test_path)\n",
    "        print(\"✔️  Dados preparados com sucesso e registrados no MLflow.\")\n",
    "\n",
    "\n",
    "# Rodar manualmente no notebook (ajustado ao local do .ipynb)\n",
    "pipeline_preparacao_dados(\n",
    "    input_path_dev=\"../data/01_raw/dataset_kobe_dev.parquet\",\n",
    "    input_path_prod=\"../data/01_raw/dataset_kobe_prod.parquet\",\n",
    "    data_filtered_path=\"../data/02_intermediate/data_filtered.parquet\",\n",
    "    train_path=\"../data/processed/base_train.parquet\",\n",
    "    test_path=\"../data/processed/base_test.parquet\",\n",
    "    test_size=0.2\n",
    ")\n"
   ]
  }
 ],
 "metadata": {
  "kernelspec": {
   "display_name": "venv",
   "language": "python",
   "name": "python3"
  },
  "language_info": {
   "codemirror_mode": {
    "name": "ipython",
    "version": 3
   },
   "file_extension": ".py",
   "mimetype": "text/x-python",
   "name": "python",
   "nbconvert_exporter": "python",
   "pygments_lexer": "ipython3",
   "version": "3.10.0"
  }
 },
 "nbformat": 4,
 "nbformat_minor": 2
}
